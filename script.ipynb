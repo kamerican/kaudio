{
 "metadata": {
  "language_info": {
   "codemirror_mode": {
    "name": "ipython",
    "version": 3
   },
   "file_extension": ".py",
   "mimetype": "text/x-python",
   "name": "python",
   "nbconvert_exporter": "python",
   "pygments_lexer": "ipython3",
   "version": "3.9.1-final"
  },
  "orig_nbformat": 2,
  "kernelspec": {
   "name": "python3",
   "display_name": "Python 3.9.1 64-bit",
   "metadata": {
    "interpreter": {
     "hash": "d3fc7c95e15879e9d4f44fd407a306163fb8bdaa185c58bd9d11c4efa5943f4b"
    }
   }
  }
 },
 "nbformat": 4,
 "nbformat_minor": 2,
 "cells": [
  {
   "cell_type": "code",
   "execution_count": 1,
   "metadata": {},
   "outputs": [],
   "source": [
    "from pathlib import Path\n",
    "import pyaudio\n",
    "from pydub import AudioSegment\n",
    "import numpy\n",
    "from scipy import signal, fftpack\n",
    "# import matplotlib.pyplot as plt"
   ]
  },
  {
   "cell_type": "code",
   "execution_count": 2,
   "metadata": {},
   "outputs": [],
   "source": [
    "working_dir = Path('e:/data/kaudio')\n",
    "test_file = working_dir / 'HELLO UJUNG EP3.wav'\n",
    "# test_dir = working_dir / 'test'\n",
    "# test_export = test_dir / \"test.mp3\"\n",
    "# pa = pyaudio.PyAudio()"
   ]
  },
  {
   "cell_type": "code",
   "execution_count": 3,
   "metadata": {},
   "outputs": [
    {
     "output_type": "stream",
     "name": "stdout",
     "text": [
      "Sample rate: 48000\nNumber of bits: 32-bit\nNumber of channels: 2\n"
     ]
    }
   ],
   "source": [
    "test_as = AudioSegment.from_file(test_file, test_file.suffix[1:])\n",
    "print(\"Sample rate: {}\".format(test_as.frame_rate))\n",
    "print(\"Number of bits: {}-bit\".format(test_as.sample_width * 8))\n",
    "print(\"Number of channels: {}\".format(test_as.channels))"
   ]
  },
  {
   "cell_type": "code",
   "execution_count": 21,
   "metadata": {},
   "outputs": [],
   "source": [
    "samples = test_as.get_array_of_samples()\n",
    "channels = test_as.split_to_mono()\n"
   ]
  },
  {
   "cell_type": "code",
   "execution_count": 20,
   "metadata": {},
   "outputs": [],
   "source": [
    "split_samples = [s.get_array_of_samples() for s in channels]"
   ]
  },
  {
   "cell_type": "code",
   "execution_count": 61,
   "metadata": {},
   "outputs": [],
   "source": [
    "asdf = test_as[::5000]\n"
   ]
  },
  {
   "cell_type": "code",
   "execution_count": 65,
   "metadata": {},
   "outputs": [],
   "source": [
    "aa = next(asdf)"
   ]
  },
  {
   "cell_type": "code",
   "execution_count": 28,
   "metadata": {},
   "outputs": [],
   "source": [
    "import numpy as np"
   ]
  },
  {
   "cell_type": "code",
   "execution_count": 60,
   "metadata": {},
   "outputs": [
    {
     "output_type": "execute_result",
     "data": {
      "text/plain": [
       "96000"
      ]
     },
     "metadata": {},
     "execution_count": 60
    }
   ],
   "source": [
    "len(test_as[:1000].get_array_of_samples())"
   ]
  },
  {
   "cell_type": "code",
   "execution_count": 30,
   "metadata": {},
   "outputs": [],
   "source": [
    "stream = pa.open(\n",
    "    rate=48000,     # sampling rate\n",
    "    channels=2, # number of output channels\n",
    "    format=pyaudio.paInt16,  # sample format and length\n",
    "    output=True,             # output stream flag\n",
    "    output_device_index=9,   # output device index\n",
    "    input=True,                   # input stream flag\n",
    "    input_device_index=3,         # input device index maybe 13\n",
    "    frames_per_buffer=1024,  # buffer length\n",
    ")\n",
    "\n",
    "# stream_out.write(test_as.get_array_of_samples().tobytes())\n",
    "\n",
    "# read 5 seconds of the input stream\n",
    "# input_audio = stream_in.read(5 * 48000)"
   ]
  },
  {
   "cell_type": "code",
   "execution_count": 51,
   "metadata": {},
   "outputs": [],
   "source": [
    "a = stream.read(1024)"
   ]
  },
  {
   "cell_type": "code",
   "execution_count": 54,
   "metadata": {},
   "outputs": [],
   "source": [
    "stream.write(a)"
   ]
  },
  {
   "cell_type": "code",
   "execution_count": null,
   "metadata": {},
   "outputs": [],
   "source": [
    "f, t, sxx = signal.spectrogram(samples, 1024)"
   ]
  },
  {
   "cell_type": "code",
   "execution_count": null,
   "metadata": {},
   "outputs": [],
   "source": []
  },
  {
   "cell_type": "code",
   "execution_count": null,
   "metadata": {},
   "outputs": [],
   "source": [
    "import pyaudio\n",
    "# import wave\n",
    "\n",
    "CHUNK = 1024\n",
    "# FORMAT = pyaudio.paInt24\n",
    "# CHANNELS = 2\n",
    "# RATE = 44100\n",
    "# RECORD_SECONDS = 5\n",
    "# WAVE_OUTPUT_FILENAME = \"output.wav\"\n",
    "\n",
    "# p = pyaudio.PyAudio()\n",
    "\n",
    "# stream = p.open(format=FORMAT,\n",
    "#                 channels=CHANNELS,\n",
    "#                 rate=RATE,\n",
    "#                 input=True,\n",
    "#                 frames_per_buffer=CHUNK)\n",
    "\n",
    "print(\"* recording\")\n",
    "\n",
    "# frames = []\n",
    "# frames.append(data)\n",
    "\n",
    "\n",
    "\n",
    "# for i in range(0, int(RATE / CHUNK * RECORD_SECONDS)):\n",
    "try:\n",
    "    stream_in.start_stream()\n",
    "    while True:\n",
    "        stream_out.write(stream_in.read(CHUNK))\n",
    "        # stream_in.read(CHUNK)\n",
    "        \n",
    "except:\n",
    "    pass\n",
    "print(\"* done recording\")\n",
    "stream_in.stop_stream()\n",
    "stream_in.close()\n",
    "pa.terminate()\n",
    "\n",
    "# wf = wave.open(WAVE_OUTPUT_FILENAME, 'wb')\n",
    "# wf.setnchannels(CHANNELS)\n",
    "# wf.setsampwidth(p.get_sample_size(FORMAT))\n",
    "# wf.setframerate(RATE)\n",
    "# wf.writeframes(b''.join(frames))\n",
    "# wf.close()"
   ]
  }
 ]
}