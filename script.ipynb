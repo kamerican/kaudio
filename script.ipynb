{
 "metadata": {
  "language_info": {
   "codemirror_mode": {
    "name": "ipython",
    "version": 3
   },
   "file_extension": ".py",
   "mimetype": "text/x-python",
   "name": "python",
   "nbconvert_exporter": "python",
   "pygments_lexer": "ipython3",
   "version": "3.9.1-final"
  },
  "orig_nbformat": 2,
  "kernelspec": {
   "name": "python3",
   "display_name": "Python 3.9.1 64-bit ('kaudio_env_py39': venv)",
   "metadata": {
    "interpreter": {
     "hash": "d3fc7c95e15879e9d4f44fd407a306163fb8bdaa185c58bd9d11c4efa5943f4b"
    }
   }
  }
 },
 "nbformat": 4,
 "nbformat_minor": 2,
 "cells": [
  {
   "cell_type": "code",
   "execution_count": 5,
   "metadata": {},
   "outputs": [],
   "source": [
    "from pathlib import Path\n",
    "import numpy\n",
    "from scipy import signal, fftpack\n",
    "# import matplotlib.pyplot as plt\n",
    "import pyAudioDspTools"
   ]
  }
 ]
}